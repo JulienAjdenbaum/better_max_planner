{
 "cells": [
  {
   "cell_type": "code",
   "id": "initial_id",
   "metadata": {
    "collapsed": true,
    "ExecuteTime": {
     "end_time": "2024-10-19T11:00:23.606835Z",
     "start_time": "2024-10-19T11:00:23.160641Z"
    }
   },
   "source": [
    "import os\n",
    "import pandas as pd\n",
    "import sqlite3\n",
    "\n",
    "# Define the directory containing the .txt files and the SQLite database file path\n",
    "directory_path = 'data/txt_files'\n",
    "database_path = 'data/database.db'\n",
    "\n",
    "# Create a connection to the SQLite database\n",
    "conn = sqlite3.connect(database_path)\n",
    "\n",
    "# Loop through each .txt file in the directory\n",
    "for filename in os.listdir(directory_path):\n",
    "    if filename.endswith(\".txt\"):\n",
    "        # Full path to the file\n",
    "        file_path = os.path.join(directory_path, filename)\n",
    "        \n",
    "        # Read the .txt file into a pandas DataFrame\n",
    "        df = pd.read_csv(file_path)  # Assumes default CSV delimiter (',')\n",
    "        \n",
    "        # Get the table name by stripping the extension from the filename\n",
    "        table_name = os.path.splitext(filename)[0]\n",
    "        \n",
    "        # Write the DataFrame to a SQL table (replacing the table if it exists)\n",
    "        df.to_sql(table_name, conn, if_exists='replace', index=False)\n",
    "        \n",
    "        print(f\"Created table '{table_name}' from file '{filename}'.\")\n",
    "\n",
    "# Commit changes and close the connection\n",
    "conn.commit()\n",
    "conn.close()\n",
    "\n",
    "print(\"Database created successfully!\")\n"
   ],
   "outputs": [
    {
     "name": "stdout",
     "output_type": "stream",
     "text": [
      "Created table 'agency' from file 'agency.txt'.\n",
      "Created table 'trips' from file 'trips.txt'.\n",
      "Created table 'stops' from file 'stops.txt'.\n",
      "Created table 'transfers' from file 'transfers.txt'.\n",
      "Created table 'routes' from file 'routes.txt'.\n",
      "Created table 'stop_times' from file 'stop_times.txt'.\n",
      "Created table 'feed_info' from file 'feed_info.txt'.\n",
      "Created table 'calendar_dates' from file 'calendar_dates.txt'.\n",
      "Database created successfully!\n"
     ]
    }
   ],
   "execution_count": 7
  },
  {
   "metadata": {
    "ExecuteTime": {
     "end_time": "2024-10-19T11:16:19.999536Z",
     "start_time": "2024-10-19T11:16:10.505696Z"
    }
   },
   "cell_type": "code",
   "source": [
    "import xml.etree.ElementTree as ET\n",
    "\n",
    "# Load the XML file\n",
    "tree = ET.parse('/home/julien/Downloads/export-intercites-netex-last/sncf_netexfr_20241018_2327.xml')  # Replace with the actual file path\n",
    "root = tree.getroot()\n",
    "\n",
    "# Define the namespace for NeTEx (you may need to adjust this depending on your file)\n",
    "ns = {'netex': 'http://www.netex.org.uk/netex'}\n",
    "\n",
    "# Search for a train in the XML (usually a ScheduledStopPoint or ServiceJourney element in NeTEx)\n",
    "train = root.find('.//netex:ServiceJourney', ns)\n",
    "\n",
    "# If a train is found, extract relevant information\n",
    "if train is not None:\n",
    "    train_id = train.attrib.get('id')\n",
    "    departure_time = train.find('.//netex:DepartureTime', ns)\n",
    "    destination_ref = train.find('.//netex:DestinationRef', ns)\n",
    "        \n",
    "    print(\"Attributes of the train:\")\n",
    "    for attr_name, attr_value in train.attrib.items():\n",
    "        print(f\"{attr_name}: {attr_value}\")\n",
    "    \n",
    "    # Display the train information\n",
    "    print(f\"Train ID: {train_id}\")\n",
    "    if departure_time is not None:\n",
    "        print(f\"Departure Time: {departure_time.text}\")\n",
    "    if destination_ref is not None:\n",
    "        print(f\"Destination: {destination_ref.text}\")\n",
    "else:\n",
    "    print(\"No train found in the NeTEx XML.\")\n",
    "\n"
   ],
   "id": "50a72980639a7925",
   "outputs": [
    {
     "name": "stdout",
     "output_type": "stream",
     "text": [
      "Attributes of the train:\n",
      "id: FR:ServiceJourney::SN14140FERRE_1385411\n",
      "responsibilitySetRef: 1187\n",
      "dataSourceRef: 2148\n",
      "changed: 2024-04-30T14:01:58.789\n",
      "version: any\n",
      "status: active\n",
      "Train ID: FR:ServiceJourney::SN14140FERRE_1385411\n",
      "Departure Time: 06:27:00\n"
     ]
    }
   ],
   "execution_count": 9
  },
  {
   "metadata": {
    "ExecuteTime": {
     "end_time": "2024-10-19T12:11:47.538471Z",
     "start_time": "2024-10-19T12:11:47.503987Z"
    }
   },
   "cell_type": "code",
   "source": [
    "# Set to track element types that we have already printed\n",
    "seen_elements = set()\n",
    "\n",
    "def save_element_structure_once(element, file, level=0):\n",
    "    # Indentation to represent hierarchy\n",
    "    indent = \"  \" * level\n",
    "    # Check if we have already processed this type of element\n",
    "    if element.tag not in seen_elements:\n",
    "        # Mark this element as processed\n",
    "        seen_elements.add(element.tag)\n",
    "        # Write the element tag (strip the namespace if necessary)\n",
    "        file.write(f\"{indent}{element.tag.split('}')[-1]}\\n\")\n",
    "        \n",
    "        # Recursively process child elements\n",
    "        for child in element:\n",
    "            save_element_structure_once(child, file, level + 1)\n",
    "\n",
    "# Open a file to save the structure\n",
    "with open('element_structure.txt', 'w') as f:\n",
    "    # Save the structure from the root element\n",
    "    save_element_structure_once(root, f)\n",
    "\n",
    "print(\"Element structure has been saved to 'element_structure.txt'.\")"
   ],
   "id": "1c0d937fdc17d083",
   "outputs": [
    {
     "name": "stdout",
     "output_type": "stream",
     "text": [
      "Element structure has been saved to 'element_structure.txt'.\n"
     ]
    }
   ],
   "execution_count": 28
  },
  {
   "metadata": {
    "ExecuteTime": {
     "end_time": "2024-10-19T15:02:33.819005Z",
     "start_time": "2024-10-19T15:02:33.307637Z"
    }
   },
   "cell_type": "code",
   "source": [
    "import os\n",
    "import xml.etree.ElementTree as ET\n",
    "\n",
    "# Dictionary to keep track of seen elements with their full parent path and their counts\n",
    "seen_elements = {}\n",
    "\n",
    "# Function to recursively capture the structure of the XML file\n",
    "def capture_element_structure(element, parent_path=\"\"):\n",
    "    tag = element.tag.split('}')[-1]  # Remove namespace if present\n",
    "    full_path = f\"{parent_path}/{tag}\" if parent_path else tag  # Full path of the current element\n",
    "\n",
    "    # Increment the count for this element's full path\n",
    "    if full_path not in seen_elements:\n",
    "        seen_elements[full_path] = 1\n",
    "    else:\n",
    "        seen_elements[full_path] += 1\n",
    "\n",
    "    # Recursively capture structure for child elements, passing the full parent path\n",
    "    for child in element:\n",
    "        capture_element_structure(child, full_path)\n",
    "\n",
    "# Directory containing the XML files\n",
    "directory = 'data/netex_xml'  # Replace with your actual directory path\n",
    "\n",
    "# Iterate over all XML files in the directory\n",
    "for filename in os.listdir(directory):\n",
    "    if filename.endswith(\".xml\"):\n",
    "        file_path = os.path.join(directory, filename)\n",
    "        print(f\"Processing file: {file_path}\")\n",
    "        # Parse the XML file\n",
    "        tree = ET.parse(file_path)\n",
    "        root = tree.getroot()\n",
    "        # Capture the structure of the XML file\n",
    "        capture_element_structure(root)\n",
    "\n",
    "# Write the element paths and their counts to a file for analysis\n",
    "with open('xml_structure_with_counts.txt', 'w') as f:\n",
    "    for path, count in seen_elements.items():\n",
    "        f.write(f\"{path}: {count}\\n\")\n",
    "\n",
    "print(\"XML structure with counts has been saved to 'xml_structure_with_counts.txt'.\")\n"
   ],
   "id": "b0806812855b981e",
   "outputs": [
    {
     "ename": "NameError",
     "evalue": "name 'ET' is not defined",
     "output_type": "error",
     "traceback": [
      "\u001B[0;31m---------------------------------------------------------------------------\u001B[0m",
      "\u001B[0;31mNameError\u001B[0m                                 Traceback (most recent call last)",
      "Cell \u001B[0;32mIn[1], line 5\u001B[0m\n\u001B[1;32m      2\u001B[0m ns \u001B[38;5;241m=\u001B[39m {\u001B[38;5;124m'\u001B[39m\u001B[38;5;124mnetex\u001B[39m\u001B[38;5;124m'\u001B[39m: \u001B[38;5;124m'\u001B[39m\u001B[38;5;124mhttp://www.netex.org.uk/netex\u001B[39m\u001B[38;5;124m'\u001B[39m}\n\u001B[1;32m      4\u001B[0m \u001B[38;5;66;03m# Parse the XML file\u001B[39;00m\n\u001B[0;32m----> 5\u001B[0m tree \u001B[38;5;241m=\u001B[39m ET\u001B[38;5;241m.\u001B[39mparse(xml_file_path)\n\u001B[1;32m      6\u001B[0m root \u001B[38;5;241m=\u001B[39m tree\u001B[38;5;241m.\u001B[39mgetroot()\n\u001B[1;32m      8\u001B[0m \u001B[38;5;66;03m# Find all JourneyPart elements\u001B[39;00m\n",
      "\u001B[0;31mNameError\u001B[0m: name 'ET' is not defined"
     ]
    }
   ],
   "execution_count": 1
  },
  {
   "metadata": {
    "ExecuteTime": {
     "end_time": "2024-10-19T15:07:48.008961Z",
     "start_time": "2024-10-19T15:07:40.754958Z"
    }
   },
   "cell_type": "code",
   "source": [
    "import xml.etree.ElementTree as ET\n",
    "\n",
    "def extract_journey_parts(xml_file, max_examples=5):\n",
    "    print(\"starting\")\n",
    "    try:\n",
    "        tree = ET.parse(xml_file)\n",
    "        root = tree.getroot()\n",
    "\n",
    "        # Extract the namespace from the root tag dynamically\n",
    "        ns = {'netex': root.tag[root.tag.find(\"{\")+1:root.tag.find(\"}\")]}\n",
    "        print(f\"Extracted namespace: {ns['netex']}\")\n",
    "\n",
    "        # Find JourneyPart elements in the XML file\n",
    "        journey_parts = root.findall(\".//netex:JourneyPart\", ns)\n",
    "        print(f\"Found {len(journey_parts)} JourneyPart elements\")\n",
    "\n",
    "        # Limit to max_examples for demonstration purposes\n",
    "        if len(journey_parts) == 0:\n",
    "            print(\"No JourneyPart elements found. Please verify the XML structure and namespaces.\")\n",
    "\n",
    "        for i, journey_part in enumerate(journey_parts[:max_examples]):\n",
    "            journey_part_id = journey_part.attrib.get('id')\n",
    "            parent_journey_ref = journey_part.find('netex:ParentJourneyRef', ns)\n",
    "            train_number_ref = journey_part.find('netex:TrainNumberRef', ns)\n",
    "            from_stop_point_ref = journey_part.find('netex:FromStopPointRef', ns)\n",
    "            to_stop_point_ref = journey_part.find('netex:ToStopPointRef', ns)\n",
    "            start_time = journey_part.find('netex:StartTime', ns)\n",
    "            end_time = journey_part.find('netex:EndTime', ns)\n",
    "\n",
    "            # Use a safe check to get text or return None\n",
    "            parent_journey_ref_text = parent_journey_ref.text if parent_journey_ref is not None else None\n",
    "            train_number_ref_text = train_number_ref.text if train_number_ref is not None else None\n",
    "            from_stop_point_ref_text = from_stop_point_ref.text if from_stop_point_ref is not None else None\n",
    "            to_stop_point_ref_text = to_stop_point_ref.text if to_stop_point_ref is not None else None\n",
    "            start_time_text = start_time.text if start_time is not None else None\n",
    "            end_time_text = end_time.text if end_time is not None else None\n",
    "\n",
    "            print(f\"JourneyPart #{i + 1}:\")\n",
    "            print(f\"  ID: {journey_part_id}\")\n",
    "            print(f\"  ParentJourneyRef: {parent_journey_ref_text}\")\n",
    "            print(f\"  TrainNumberRef: {train_number_ref_text}\")\n",
    "            print(f\"  FromStopPointRef: {from_stop_point_ref_text}\")\n",
    "            print(f\"  ToStopPointRef: {to_stop_point_ref_text}\")\n",
    "            print(f\"  StartTime: {start_time_text}\")\n",
    "            print(f\"  EndTime: {end_time_text}\")\n",
    "            print(\"-\" * 40)\n",
    "\n",
    "    except ET.ParseError as e:\n",
    "        print(f\"Error parsing XML: {e}\")\n",
    "    except Exception as e:\n",
    "        print(f\"Error: {e}\")\n",
    "\n",
    "# Use the function on your XML file\n",
    "extract_journey_parts(\"data/netex_xml/sncf_netexfr_20241018_2327.xml\")\n"
   ],
   "id": "b8d5a53b771485c6",
   "outputs": [
    {
     "name": "stdout",
     "output_type": "stream",
     "text": [
      "Extracted namespace: http://www.netex.org.uk/netex\n",
      "Found 184 JourneyPart elements\n",
      "JourneyPart #1:\n",
      "  ID: FR:JourneyPart:4735c17e-cea2-4076-9d80-931328e3a2ad\n",
      "  ParentJourneyRef: None\n",
      "  TrainNumberRef: None\n",
      "  FromStopPointRef: None\n",
      "  ToStopPointRef: None\n",
      "  StartTime: 22:23:00\n",
      "  EndTime: 05:55:00\n",
      "----------------------------------------\n",
      "JourneyPart #2:\n",
      "  ID: FR:JourneyPart:dfbf8f94-5577-4f6d-bc58-a40c0c401c0d\n",
      "  ParentJourneyRef: None\n",
      "  TrainNumberRef: None\n",
      "  FromStopPointRef: None\n",
      "  ToStopPointRef: None\n",
      "  StartTime: 22:23:00\n",
      "  EndTime: 05:55:00\n",
      "----------------------------------------\n",
      "JourneyPart #3:\n",
      "  ID: FR:JourneyPart:97cfdcc3-0151-4c90-a7bb-9ea15be0901b\n",
      "  ParentJourneyRef: None\n",
      "  TrainNumberRef: None\n",
      "  FromStopPointRef: None\n",
      "  ToStopPointRef: None\n",
      "  StartTime: 22:23:00\n",
      "  EndTime: 05:55:00\n",
      "----------------------------------------\n",
      "JourneyPart #4:\n",
      "  ID: FR:JourneyPart:1f354860-4764-4287-b140-ebf17368cb18\n",
      "  ParentJourneyRef: None\n",
      "  TrainNumberRef: None\n",
      "  FromStopPointRef: None\n",
      "  ToStopPointRef: None\n",
      "  StartTime: 22:23:00\n",
      "  EndTime: 05:55:00\n",
      "----------------------------------------\n",
      "JourneyPart #5:\n",
      "  ID: FR:JourneyPart:2bdcaaef-e8d8-4eb3-8465-1d273b000558\n",
      "  ParentJourneyRef: None\n",
      "  TrainNumberRef: None\n",
      "  FromStopPointRef: None\n",
      "  ToStopPointRef: None\n",
      "  StartTime: 05:58:00\n",
      "  EndTime: 07:03:00\n",
      "----------------------------------------\n"
     ]
    }
   ],
   "execution_count": 1
  },
  {
   "metadata": {},
   "cell_type": "code",
   "outputs": [],
   "execution_count": null,
   "source": "",
   "id": "d46e64a7bff5e3f7"
  }
 ],
 "metadata": {
  "kernelspec": {
   "display_name": "Python 3",
   "language": "python",
   "name": "python3"
  },
  "language_info": {
   "codemirror_mode": {
    "name": "ipython",
    "version": 2
   },
   "file_extension": ".py",
   "mimetype": "text/x-python",
   "name": "python",
   "nbconvert_exporter": "python",
   "pygments_lexer": "ipython2",
   "version": "2.7.6"
  }
 },
 "nbformat": 4,
 "nbformat_minor": 5
}
